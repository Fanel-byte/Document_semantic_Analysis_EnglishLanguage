{
 "cells": [
  {
   "cell_type": "code",
   "execution_count": null,
   "id": "fb89d512",
   "metadata": {},
   "outputs": [],
   "source": [
    "#importing required libraries\n",
    "from gensim import corpora\n",
    "from collections import defaultdict\n",
    "from gensim import similarities\n",
    "from gensim import models\n",
    "import json\n",
    "import nltk \n",
    "from nltk.corpus import stopwords\n",
    "from googletrans import Translator"
   ]
  },
  {
   "cell_type": "code",
   "execution_count": null,
   "id": "036de964",
   "metadata": {},
   "outputs": [],
   "source": [
    "#reading json file\n",
    "def load_data(file):\n",
    "    with open (file, \"r\", encoding=\"utf-8\") as f:\n",
    "        data = json.load(f) \n",
    "    return (data)"
   ]
  },
  {
   "cell_type": "code",
   "execution_count": null,
   "id": "1f83298a",
   "metadata": {},
   "outputs": [],
   "source": [
    "#append data to json file\n",
    "def append_data(file, data):\n",
    "    with open (file, \"a\", encoding=\"utf-8\") as f:\n",
    "        json.dump(data, f, indent=4)"
   ]
  },
  {
   "cell_type": "code",
   "execution_count": null,
   "id": "4f86ce26",
   "metadata": {},
   "outputs": [],
   "source": [
    "#write json file\n",
    "def write_data(file, data):\n",
    "    with open (file, \"w\", encoding=\"utf-8\") as f:\n",
    "        json.dump(data, f, indent=4)"
   ]
  },
  {
   "cell_type": "code",
   "execution_count": null,
   "id": "a9bb298f",
   "metadata": {},
   "outputs": [],
   "source": [
    "def Translate(data): #List of List\n",
    "    translator = Translator()\n",
    "    docs = []\n",
    "    for article in dat:\n",
    "        translated_text = translator.translate(article[0],dest='en') #This will change\n",
    "        #print(translated_text.text)\n",
    "        #print()\n",
    "        d=translated_text.text\n",
    "        docs.append([d,article[1]])  #This too depending on our DB\n",
    "    return docs #List of List "
   ]
  },
  {
   "cell_type": "code",
   "execution_count": null,
   "id": "42ce593b",
   "metadata": {},
   "outputs": [],
   "source": [
    "#Treat data \n",
    "def Treat_Data(docs): #List of List \n",
    "    #Creating a list of stopwords\n",
    "    stoplist = set('for a of the and to in'.split()) \n",
    "    #Removing stopwords ( Depends on BD too )\n",
    "    txts = [[word for word in document[0].lower().split() if word not in stoplist]for document in docs]\n",
    "    #Calculating frequency of each word \n",
    "    frequency = defaultdict(int)\n",
    "    for text in txts:\n",
    "        for token in text:\n",
    "            frequency[token] += 1\n",
    "    #Removing words that appear only once\n",
    "    txts = [[token for token in text if frequency[token] > 1]for text in txts]\n",
    "    #Creating a dictionary\n",
    "    gensim_dictionary = corpora.Dictionary(txts)\n",
    "    #Vectorizing the corpus\n",
    "    gensim_corpus = [gensim_dictionary.doc2bow(text) for text in txts]\n",
    "    #print(gensim_corpus)\n",
    "    return gensim_corpus,gensim_dictionary"
   ]
  },
  {
   "cell_type": "code",
   "execution_count": null,
   "id": "c717bf8f",
   "metadata": {},
   "outputs": [],
   "source": [
    "def LSI(gensim_corpus,gensim_dictionary): #creating LSI model\n",
    "    lsi = models.LsiModel(gensim_corpus, id2word=gensim_dictionary, num_topics=2)\n",
    "    return lsi"
   ]
  },
  {
   "cell_type": "code",
   "execution_count": null,
   "id": "1819c7a1",
   "metadata": {},
   "outputs": [],
   "source": [
    "'''-----Treating the query-------\n",
    "    Query is the document that will be compared to \n",
    "    Doc is an article '''\n",
    "def Treat_Query(doc):\n",
    "    #Creating bow vector\n",
    "    vec_bow = gensim_dictionary.doc2bow(doc.lower().split())\n",
    "    #Converting the query to LSI space\n",
    "    vec_lsi = lsi[vec_bow]  \n",
    "    return vec_lsi"
   ]
  },
  {
   "cell_type": "code",
   "execution_count": null,
   "id": "b94ad528",
   "metadata": {},
   "outputs": [],
   "source": [
    "def Similarity(vec_lsi,gensim_corpus,lsi):\n",
    "    index = similarities.MatrixSimilarity(lsi[gensim_corpus])  \n",
    "    simil = index[vec_lsi]  \n",
    "    simil=sorted(list(enumerate(simil)),key=lambda item: -item[1])\n",
    "    #print(simil)\n",
    "    #print('###########################################################################################')\n",
    "    return simil"
   ]
  },
  {
   "cell_type": "code",
   "execution_count": null,
   "id": "c733b1af",
   "metadata": {},
   "outputs": [],
   "source": [
    "def Match_Sim(docs,simil,nbsim): #Match similar articles with a special id\n",
    "    for doc_position, doc_score in simil:\n",
    "        #print(\"the score is : \",doc_score)\n",
    "        #print(docs[doc_position][0])  \n",
    "        #print()\n",
    "        if doc_score>0.90: \n",
    "            docs[doc_position][1] = nbsim \n",
    "    return docs"
   ]
  },
  {
   "cell_type": "code",
   "execution_count": null,
   "id": "61961288",
   "metadata": {},
   "outputs": [],
   "source": [
    "#GENERAL CODE\n",
    "\n",
    "#This might change with Mysql \n",
    "dat = []\n",
    "nbsim = 0\n",
    "data = load_data(\"./dataFR.json\")['texts']\n",
    "for i in range(len(data)):\n",
    "    dat.append([data[i][\"text\"],0])\n",
    "#print(dat)\n",
    "docs = Translate(dat)\n",
    "gensim_corpus,gensim_dictionary = Treat_Data(docs)\n",
    "lsi = LSI(gensim_corpus,gensim_dictionary)\n",
    "for i in range(len(docs)):\n",
    "    if docs[i][1] == 0: #Depends on MYSQL\n",
    "        vec_lsi = Treat_Query(docs[i][0])\n",
    "        simil = Similarity(vec_lsi,gensim_corpus,lsi)\n",
    "        nbsim += 1\n",
    "        docs = Match_Sim(docs,simil,nbsim)\n",
    "print(docs)"
   ]
  },
  {
   "cell_type": "code",
   "execution_count": null,
   "id": "5bd85713",
   "metadata": {},
   "outputs": [],
   "source": []
  }
 ],
 "metadata": {
  "kernelspec": {
   "display_name": "Python 3 (ipykernel)",
   "language": "python",
   "name": "python3"
  },
  "language_info": {
   "codemirror_mode": {
    "name": "ipython",
    "version": 3
   },
   "file_extension": ".py",
   "mimetype": "text/x-python",
   "name": "python",
   "nbconvert_exporter": "python",
   "pygments_lexer": "ipython3",
   "version": "3.10.2"
  }
 },
 "nbformat": 4,
 "nbformat_minor": 5
}
